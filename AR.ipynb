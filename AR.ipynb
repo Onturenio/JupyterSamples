{
 "cells": [
  {
   "cell_type": "markdown",
   "metadata": {},
   "source": [
    "# Detección de tendencias en series autocorrelacionadas\n",
    "## Introducción\n",
    "Este ejemplo trata de demostrar la importancia de la autocorrelación para la evaluación de tendencias. Hay que dejar claro cuál es la hipótesis nula del contraste, y valorar con cuidado si es o no realista. ¡Rechazar una hipótesis ya de por sí poco plausible a tenor de los datos que se analizan no tiene valor!\n",
    "## Idea del contraste\n",
    "La idea que subyace es que cualquier serie, por pura aleatoriedad, siempre va a tener algo de tendencia. La cuestión es si esa tendencia es compatible con lo que podríamos esperar por pura aleatoriedad. Para ello define algún estadístico, se le aplica a los datos, y luego se construye la distribución de ese estadístico bajo la hipótesis de que los datos no tuvieran tendencia.\n",
    "\n",
    "La clave aquí es que hay que construir la distribución del estadístico, y eso está basado en un conjunto de hipótesis. La usencia de tendencia es una de allas, pero no la única. Normalmente se asume también que los datos son independientes. De ahí sale la distribución *t* que se suele usar en los contrastes habituales. \n",
    "\n",
    "Pero ¿Qué pasa si los datos tienen autocorrelación? Pues en ese caso la distribución es más ancha (es más probable enccontrar tendencias relativamente altas incluso en series que, por construcción, carecen de tendencia). Vamos a demostrarlo mediante simulaciones Montecarlo.\n",
    "## Modelo autoregresivo\n",
    "Para generar series con autocorrelación sintética usaré un modelo autoregresivo, que se define como \n",
    "\n",
    "$X_t=\\rho X_{t-1}+\\epsilon$\n",
    "\n",
    "Donde $\\epsilon$ es ruido blanco, i.e. $\\epsilon\\sim N(0,1)$. Esta serie tiene autocorrelación (a lag 1) $\\rho$. Hay modelos más sofisticados, éste es el más simple, pero sirve para ver el efecto.\n",
    "\n",
    "Compararé el resultado de las tendencias generadas con este modelo, con el modelo de ruido blanco\n",
    "\n",
    "\n",
    "$Y_t=\\epsilon$\n",
    "\n",
    "Se realizan 3000 simulaciones, se calcula la tendencia (que es una variable aleatoria) y se comparan las distribuciones obtenidas en los dos casos.\n",
    "\n",
    "## Programa"
   ]
  },
  {
   "cell_type": "code",
   "execution_count": 28,
   "metadata": {},
   "outputs": [],
   "source": [
    "# Creamos los deslizadores con los dos parámetros a dejar libres: \n",
    "# longitud de la serie y correlacion\n",
    "import ipywidgets as widgets\n",
    "from IPython.display import display\n",
    "cor = widgets.FloatSlider(min=0, max=1.0, step=0.1,description='Cor:')\n",
    "length = widgets.IntSlider(min=10, max=100, step=10,description='Longitud:')"
   ]
  },
  {
   "cell_type": "code",
   "execution_count": 33,
   "metadata": {},
   "outputs": [
    {
     "data": {
      "application/vnd.jupyter.widget-view+json": {
       "model_id": "709bf18b507b49d4af8eafd176c4681b",
       "version_major": 2,
       "version_minor": 0
      },
      "text/plain": [
       "FloatSlider(value=0.3, description='Cor:', max=1.0)"
      ]
     },
     "metadata": {},
     "output_type": "display_data"
    },
    {
     "data": {
      "application/vnd.jupyter.widget-view+json": {
       "model_id": "6aebc429632f4651bb9b14647f6481c6",
       "version_major": 2,
       "version_minor": 0
      },
      "text/plain": [
       "IntSlider(value=70, description='Longitud:', min=10, step=10)"
      ]
     },
     "metadata": {},
     "output_type": "display_data"
    },
    {
     "data": {
      "image/png": "[encoded data removed]",
      "text/plain": [
       "<Figure size 360x216 with 1 Axes>"
      ]
     },
     "metadata": {},
     "output_type": "display_data"
    }
   ],
   "source": [
    "import numpy as np\n",
    "import statsmodels.api as sm\n",
    "import matplotlib.pyplot as plt\n",
    "from scipy import stats\n",
    "\n",
    "# Parámetros\n",
    "Nexp = 5000\n",
    "size = length.value\n",
    "rho=cor.value\n",
    "\n",
    "# Definimos variables necesarias pero poco relevantes\n",
    "x = np.linspace(0,100,size)\n",
    "t1 = np.zeros(Nexp)\n",
    "t2 = np.zeros(Nexp)\n",
    "\n",
    "# Bucle en simulaciones que guarda los resultados en t1 y t2\n",
    "for i in range(Nexp):\n",
    "    y1 = sm.tsa.arma_generate_sample(np.array([1, -rho]), np.array([1, 0]), size)\n",
    "    y2 = sm.tsa.arma_generate_sample(np.array([1, 0]), np.array([1, 0]), size)\n",
    "\n",
    "    test1 = stats.linregress(x,y1)\n",
    "    test2 = stats.linregress(x,y2)\n",
    "    t1[i]=test1.slope\n",
    "    t2[i]=test2.slope\n",
    "    \n",
    "# Obtenemos las PDFs para pintar  \n",
    "kde1 = stats.gaussian_kde(t1)\n",
    "kde2 = stats.gaussian_kde(t2)\n",
    "x=np.linspace(-.05,0.05,100)\n",
    "y1 = kde1.evaluate(x)\n",
    "y2 = kde2.evaluate(x)\n",
    "\n",
    "# Pintamos las dos PDFs, guardadas en (x,y1) y (x,y2)\n",
    "fig, ax = plt.subplots(nrows=1, ncols=1,figsize=(5,3), )\n",
    "fig.patch.set_facecolor('white')\n",
    "plt.title(\"Longitud de la serie = %d\" %(size))\n",
    "plt.xlabel(\"tendencia (unidades arbitrarias)\")\n",
    "plt.ylabel(\"PDF\")\n",
    "plt.plot(x, y1, 'r', x, y2, 'b')\n",
    "plt.legend(('AR(1), cor=%.1f' %(rho),'White Noise'))\n",
    "\n",
    "# Mostramos los deslizadores cerca del resultado\n",
    "display(cor)\n",
    "display(length)\n"
   ]
  },
  {
   "cell_type": "code",
   "execution_count": null,
   "metadata": {},
   "outputs": [],
   "source": []
  }
 ],
 "metadata": {
  "kernelspec": {
   "display_name": "Python 3",
   "language": "python",
   "name": "python3"
  },
  "language_info": {
   "codemirror_mode": {
    "name": "ipython",
    "version": 3
   },
   "file_extension": ".py",
   "mimetype": "text/x-python",
   "name": "python",
   "nbconvert_exporter": "python",
   "pygments_lexer": "ipython3",
   "version": "3.7.3"
  }
 },
 "nbformat": 4,
 "nbformat_minor": 2
}
